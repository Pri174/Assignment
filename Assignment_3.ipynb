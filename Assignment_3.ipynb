{
  "nbformat": 4,
  "nbformat_minor": 0,
  "metadata": {
    "colab": {
      "name": "Assignment 3",
      "provenance": [],
      "authorship_tag": "ABX9TyNNzygGIR2kI2A8KuikPwKb",
      "include_colab_link": true
    },
    "kernelspec": {
      "name": "python3",
      "display_name": "Python 3"
    }
  },
  "cells": [
    {
      "cell_type": "markdown",
      "metadata": {
        "id": "view-in-github",
        "colab_type": "text"
      },
      "source": [
        "<a href=\"https://colab.research.google.com/github/Pri174/Assignment/blob/main/Assignment_3.ipynb\" target=\"_parent\"><img src=\"https://colab.research.google.com/assets/colab-badge.svg\" alt=\"Open In Colab\"/></a>"
      ]
    },
    {
      "cell_type": "code",
      "metadata": {
        "id": "GadiuR8v7Bg5"
      },
      "source": [
        "def somefuc(num):\r\n",
        "  for item in range(2,20):\r\n",
        "    if num%item == 0:\r\n",
        "      print(num, \"is not a prime number\")\r\n",
        "    else:\r\n",
        "      print(num, \"is a prime number\")\r\n",
        "    break"
      ],
      "execution_count": 22,
      "outputs": []
    },
    {
      "cell_type": "code",
      "metadata": {
        "colab": {
          "base_uri": "https://localhost:8080/"
        },
        "id": "YJFVXDGq9oli",
        "outputId": "1a303c23-cd1e-4374-92a2-fb9512cbe0f0"
      },
      "source": [
        "somefuc(5)"
      ],
      "execution_count": 23,
      "outputs": [
        {
          "output_type": "stream",
          "text": [
            "5 is a prime number\n"
          ],
          "name": "stdout"
        }
      ]
    },
    {
      "cell_type": "code",
      "metadata": {
        "id": "blpFumRI9xKV",
        "colab": {
          "base_uri": "https://localhost:8080/"
        },
        "outputId": "841f2dac-cdb5-4ac6-b1f1-ba8a58b56eca"
      },
      "source": [
        "somefuc(7)"
      ],
      "execution_count": 24,
      "outputs": [
        {
          "output_type": "stream",
          "text": [
            "7 is a prime number\n"
          ],
          "name": "stdout"
        }
      ]
    },
    {
      "cell_type": "code",
      "metadata": {
        "colab": {
          "base_uri": "https://localhost:8080/"
        },
        "id": "a8dyCORrCtUR",
        "outputId": "2c08c268-4f83-4270-b631-cd3fba1adc9d"
      },
      "source": [
        "somefuc(8)"
      ],
      "execution_count": 25,
      "outputs": [
        {
          "output_type": "stream",
          "text": [
            "8 is not a prime number\n"
          ],
          "name": "stdout"
        }
      ]
    },
    {
      "cell_type": "code",
      "metadata": {
        "id": "2EtlzswMCvcJ"
      },
      "source": [
        ""
      ],
      "execution_count": null,
      "outputs": []
    }
  ]
}