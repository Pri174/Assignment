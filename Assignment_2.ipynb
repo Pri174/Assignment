{
  "nbformat": 4,
  "nbformat_minor": 0,
  "metadata": {
    "colab": {
      "name": "Assignment 2",
      "provenance": [],
      "collapsed_sections": [],
      "authorship_tag": "ABX9TyNzccqILS6sQbzWE5u8U/12",
      "include_colab_link": true
    },
    "kernelspec": {
      "name": "python3",
      "display_name": "Python 3"
    }
  },
  "cells": [
    {
      "cell_type": "markdown",
      "metadata": {
        "id": "view-in-github",
        "colab_type": "text"
      },
      "source": [
        "<a href=\"https://colab.research.google.com/github/Pri174/Assignment/blob/main/Assignment_2.ipynb\" target=\"_parent\"><img src=\"https://colab.research.google.com/assets/colab-badge.svg\" alt=\"Open In Colab\"/></a>"
      ]
    },
    {
      "cell_type": "code",
      "metadata": {
        "colab": {
          "base_uri": "https://localhost:8080/"
        },
        "id": "YNi-KMjtn_1y",
        "outputId": "0db6303d-3406-49ea-c5e0-fb6307209386"
      },
      "source": [
        "altitude = 1000\r\n",
        "\r\n",
        "if altitude < 1000:\r\n",
        "  print(\"Land the plane\")\r\n",
        "elif altitude > 1000 and altitude < 5000:\r\n",
        "  print(\"Come down to 1000\")\r\n",
        "else:\r\n",
        "  print(\"Go Around and try later\")\r\n"
      ],
      "execution_count": 7,
      "outputs": [
        {
          "output_type": "stream",
          "text": [
            "Go Around and try later\n"
          ],
          "name": "stdout"
        }
      ]
    },
    {
      "cell_type": "code",
      "metadata": {
        "colab": {
          "base_uri": "https://localhost:8080/"
        },
        "id": "tbyL2AH9puR0",
        "outputId": "c8b6090c-c03f-47e6-8a0a-4fe28040b2c3"
      },
      "source": [
        "altitude = 4000\r\n",
        "\r\n",
        "if altitude < 1000:\r\n",
        "  print(\"Land the plane\")\r\n",
        "elif altitude > 1000 and altitude < 5000:\r\n",
        "  print(\"Come down to 1000\")\r\n",
        "else:\r\n",
        "  print(\"Go Around and try later\")"
      ],
      "execution_count": 8,
      "outputs": [
        {
          "output_type": "stream",
          "text": [
            "Come down to 1000\n"
          ],
          "name": "stdout"
        }
      ]
    },
    {
      "cell_type": "code",
      "metadata": {
        "colab": {
          "base_uri": "https://localhost:8080/"
        },
        "id": "YkXrW4zqqTFT",
        "outputId": "b0247949-8c52-4c09-d80e-bb7bc559fe8d"
      },
      "source": [
        "altitude = 500\r\n",
        "\r\n",
        "if altitude < 1000:\r\n",
        "  print(\"Land the plane\")\r\n",
        "elif altitude > 1000 and altitude < 5000:\r\n",
        "  print(\"Come down to 1000\")\r\n",
        "else:\r\n",
        "  print(\"Go Around and try later\")"
      ],
      "execution_count": 9,
      "outputs": [
        {
          "output_type": "stream",
          "text": [
            "Land the plane\n"
          ],
          "name": "stdout"
        }
      ]
    },
    {
      "cell_type": "code",
      "metadata": {
        "id": "5QTCh8yMqZiD"
      },
      "source": [
        ""
      ],
      "execution_count": null,
      "outputs": []
    }
  ]
}